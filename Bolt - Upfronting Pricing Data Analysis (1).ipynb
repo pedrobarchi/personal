{
 "cells": [
  {
   "cell_type": "code",
   "execution_count": 34,
   "id": "d8bf832b",
   "metadata": {},
   "outputs": [],
   "source": [
    "import pandas as pd\n",
    "import numpy as np\n",
    "from scipy import stats\n",
    "import matplotlib.pyplot as plt\n",
    "from sklearn import metrics\n",
    "from sklearn.metrics import (confusion_matrix, accuracy_score)\n",
    "import statsmodels.api as sm\n",
    "import seaborn as sns"
   ]
  },
  {
   "cell_type": "code",
   "execution_count": 35,
   "id": "83ca3b6b",
   "metadata": {},
   "outputs": [],
   "source": [
    "df = pd.read_csv(r\"C:\\Users\\Acer\\Downloads\\Test.csv - test.csv\")"
   ]
  },
  {
   "cell_type": "code",
   "execution_count": 37,
   "id": "3af939c3",
   "metadata": {},
   "outputs": [],
   "source": [
    "# as the idea is to minimize the distance between upfront and metered price, we need to analyse the rows of data for which we have both columns different from null\n",
    "df = df.dropna(subset=['upfront_price','metered_price'])\n",
    "\n",
    "# we want to understand the behavior of the most basic model in the ride-hailing business; therefore, we only consider cases where dest_change_number = 1\n",
    "\n",
    "df = df[df.change_reason_pricing.isnull()]\n",
    "\n",
    "# add variable to measure relationship between upfront and metered price\n",
    "\n",
    "df['price_quo'] = df['upfront_price'] / df['metered_price']\n",
    "\n",
    "# add boolean to determine if metered price is within +/- 20% of the upfront price\n",
    "\n",
    "df['paid_metered'] = np.where(df['price_quo'] > 1.2, 1, np.where(df['price_quo'] < 0.8, 1, 0))\n",
    "\n",
    "# add two variables: absolute difference between distance and duration, and its predicted counterparts\n",
    "\n",
    "df['abs_diff_distance'] = abs(df['distance'] - df['predicted_distance']) / 100 # we divide by 100 simply to make the ensuing coefficient more legible\n",
    "df['abs_diff_duration'] = abs(df['duration'] - df['predicted_duration']) / 100 # we divide by 100 simply to make the ensuing coefficient more legible\n",
    "\n",
    "# working off the premise that app version might affect prediction performance, we create two dummies to determine whether the driver and rider are using a DA and CA version of the app respectively.\n",
    "\n",
    "df['is_da'] = np.where(df['driver_app_version'].str[0:2] == 'DA', 1, 0)\n",
    "df['is_ca'] = np.where(df['rider_app_version'].str[0:2] == 'CA', 1, 0)\n",
    "\n",
    "# the elimination of outliers can give us better insights into how the core business is run; further analysis may provide a way to cut down on outliers themselves\n",
    "# as the relevant variable is the price_quo relationship between upfront and metered price, we will be using it for outlier detection\n",
    "# we remove only those values whose price_quo variable is 3 standard deviations from the mean\n",
    "\n",
    "df = df[(np.abs(stats.zscore(df['price_quo'])) < 3)]\n",
    "\n",
    "# we make an alteration to the duration and distance variables so their coefficients are more legible\n",
    "\n",
    "df['duration'] = df['duration']/100\n",
    "df['distance'] = df['distance']/100\n",
    "\n",
    "df['predicted_duration'] = df['predicted_duration']/100\n",
    "df['predicted_distance'] = df['predicted_distance']/100"
   ]
  },
  {
   "cell_type": "code",
   "execution_count": 38,
   "id": "8f2dc8de",
   "metadata": {},
   "outputs": [
    {
     "name": "stdout",
     "output_type": "stream",
     "text": [
      "Total number of rides:  3334\n",
      "Total number of rides paid with metered:  1295\n",
      "Rides not within 20% range:  38.84%\n",
      "\n",
      "\n",
      "Rides with prediction above 20% of metered:  361\n",
      "Rides with prediction above metered:  1186\n",
      "Rides with prediction below 20% of metered:  934\n",
      "Rides with prediction below metered:  1973\n",
      "Rides with exact prediction:  175\n",
      "\n",
      "\n",
      "Average overall prediction/metered : 0.9663\n",
      "Median overall prediction/metered : 0.9541\n"
     ]
    },
    {
     "data": {
      "text/plain": [
       "array([[<AxesSubplot:title={'center':'price_quo'}>]], dtype=object)"
      ]
     },
     "execution_count": 38,
     "metadata": {},
     "output_type": "execute_result"
    },
    {
     "data": {
      "image/png": "[encoded data removed]",
      "text/plain": [
       "<Figure size 432x288 with 1 Axes>"
      ]
     },
     "metadata": {
      "needs_background": "light"
     },
     "output_type": "display_data"
    }
   ],
   "source": [
    "# this leaves us with an initial dataframe with the following basic characteristics\n",
    "\n",
    "\n",
    "ride = (df[df.paid_metered == 1].shape[0]/df.shape[0])\n",
    "prediction_higher_20 = df[(df.price_quo > 1) & (df.paid_metered == 1)].shape[0]\n",
    "prediction_higher = df[df.price_quo > 1].shape[0]\n",
    "prediction_lower_20 = df[(df.price_quo < 1) & (df.paid_metered == 1)].shape[0]\n",
    "prediction_lower = df[df.price_quo < 1].shape[0]\n",
    "prediction_correct = df[df.price_quo == 1].shape[0]\n",
    "price_q = np.mean(df.price_quo)\n",
    "price_median = np.median(df.price_quo)\n",
    "\n",
    "\n",
    "print ('Total number of rides: ',df.shape[0])\n",
    "print ('Total number of rides paid with metered: ',df[df.paid_metered == 1].shape[0])\n",
    "print ('Rides not within 20% range: ',\"{:.2%}\".format(ride))\n",
    "print(\"\\n\")\n",
    "\n",
    "print ('Rides with prediction above 20% of metered: ',prediction_higher_20)\n",
    "print ('Rides with prediction above metered: ',prediction_higher)\n",
    "print ('Rides with prediction below 20% of metered: ',prediction_lower_20)\n",
    "print ('Rides with prediction below metered: ',prediction_lower)\n",
    "print ('Rides with exact prediction: ',prediction_correct)\n",
    "print(\"\\n\")\n",
    "\n",
    "print('Average overall prediction/metered :', \"{:.4}\".format(price_q))\n",
    "print('Median overall prediction/metered :', \"{:.4}\".format(price_median))\n",
    "\n",
    "df.hist(column = 'price_quo', color = 'yellowgreen', bins = [0, 0.4, 0.6, 0.8, 1, 1.2, 1.6, 2])"
   ]
  },
  {
   "cell_type": "code",
   "execution_count": 39,
   "id": "835332af",
   "metadata": {},
   "outputs": [],
   "source": [
    "# we define a couple of variables to explore the relationships between EU variable and duration and distance\n",
    "\n",
    "df['eu_predicted_duration'] = df['eu_indicator'] * df['predicted_duration']\n",
    "df['eu_predicted_distance'] = df['eu_indicator'] * df['predicted_distance']\n",
    "\n",
    "df['eu_abs_diff_duration'] = df['eu_indicator'] * df['abs_diff_duration']\n",
    "df['eu_abs_diff_distance'] = df['eu_indicator'] * df['abs_diff_distance']\n"
   ]
  },
  {
   "cell_type": "code",
   "execution_count": 40,
   "id": "552a42c7",
   "metadata": {},
   "outputs": [
    {
     "name": "stdout",
     "output_type": "stream",
     "text": [
      "Optimization terminated successfully.\n",
      "         Current function value: 0.286421\n",
      "         Iterations 10\n"
     ]
    }
   ],
   "source": [
    "\n",
    "# the variables below are those considered relevant to the prediction of whether the measured price will be paid at the ride's end\n",
    "x_train = df[['abs_diff_distance','abs_diff_duration','eu_indicator','is_da','is_ca','gps_confidence','predicted_distance','predicted_duration','overpaid_ride_ticket','eu_predicted_duration','eu_predicted_distance','eu_abs_diff_duration','eu_abs_diff_distance']]\n",
    "y_train = df[['paid_metered']]\n",
    "\n",
    "x1 = sm.add_constant(x_train)\n",
    "\n",
    "logit_model = sm.Logit(y_train, x1).fit()"
   ]
  },
  {
   "cell_type": "code",
   "execution_count": 41,
   "id": "8ffe1fdb",
   "metadata": {},
   "outputs": [],
   "source": [
    "x_test = df[['abs_diff_distance','abs_diff_duration','eu_indicator','is_da','is_ca','gps_confidence','predicted_distance','predicted_duration','overpaid_ride_ticket','eu_predicted_duration','eu_predicted_distance','eu_abs_diff_duration','eu_abs_diff_distance']]\n",
    "y_test = df[['paid_metered']]\n",
    "\n",
    "x2 = sm.add_constant(x_test)\n",
    "\n",
    "yhat = logit_model.predict(x2)\n",
    "prediction = list(map(round, yhat))"
   ]
  },
  {
   "cell_type": "code",
   "execution_count": 42,
   "id": "52f04591",
   "metadata": {},
   "outputs": [
    {
     "data": {
      "text/plain": [
       "Text(0.5, 257.44, 'Predicted label')"
      ]
     },
     "execution_count": 42,
     "metadata": {},
     "output_type": "execute_result"
    },
    {
     "data": {
      "image/png": "[encoded data removed]",
      "text/plain": [
       "<Figure size 432x288 with 2 Axes>"
      ]
     },
     "metadata": {
      "needs_background": "light"
     },
     "output_type": "display_data"
    }
   ],
   "source": [
    "\n",
    "  \n",
    "# a confusion matrix is used to visualize the success and failed rate of prediction for a model.\n",
    "\n",
    "cm = confusion_matrix(y_test, prediction) \n",
    "\n",
    "class_names=[0,1] # name  of classes\n",
    "fig, ax = plt.subplots()\n",
    "tick_marks = np.arange(len(class_names))\n",
    "plt.xticks(tick_marks, class_names)\n",
    "plt.yticks(tick_marks, class_names)\n",
    "# create heatmap\n",
    "sns.heatmap(pd.DataFrame(cm), annot=True, cmap=\"YlGnBu\" ,fmt='g')\n",
    "ax.xaxis.set_label_position(\"top\")\n",
    "plt.tight_layout()\n",
    "plt.title('Confusion matrix', y=1.1)\n",
    "plt.ylabel('Actual label')\n",
    "plt.xlabel('Predicted label')\n"
   ]
  },
  {
   "cell_type": "code",
   "execution_count": 43,
   "id": "aea8b5d0",
   "metadata": {},
   "outputs": [
    {
     "name": "stdout",
     "output_type": "stream",
     "text": [
      "Test accuracy =  0.8902219556088782\n"
     ]
    }
   ],
   "source": [
    "# the reported 89% accuracy for the model is above the 80% threshold considered to determine an accurate model\n",
    "\n",
    "print('Test accuracy = ', accuracy_score(y_test, prediction))\n",
    "\n",
    "# therefore, this model can be reliably used to determine if a ride will be paid according to the metered price, under the aforementioned simplified premises for a 'basic' ride-hailing business"
   ]
  },
  {
   "cell_type": "code",
   "execution_count": 44,
   "id": "7accd32e",
   "metadata": {
    "scrolled": false
   },
   "outputs": [
    {
     "name": "stdout",
     "output_type": "stream",
     "text": [
      "                           Logit Regression Results                           \n",
      "==============================================================================\n",
      "Dep. Variable:           paid_metered   No. Observations:                 3334\n",
      "Model:                          Logit   Df Residuals:                     3320\n",
      "Method:                           MLE   Df Model:                           13\n",
      "Date:                Wed, 24 Aug 2022   Pseudo R-squ.:                  0.5713\n",
      "Time:                        12:23:27   Log-Likelihood:                -954.93\n",
      "converged:                       True   LL-Null:                       -2227.2\n",
      "Covariance Type:            nonrobust   LLR p-value:                     0.000\n",
      "=========================================================================================\n",
      "                            coef    std err          z      P>|z|      [0.025      0.975]\n",
      "-----------------------------------------------------------------------------------------\n",
      "const                    -3.4594      0.471     -7.344      0.000      -4.383      -2.536\n",
      "abs_diff_distance         0.1262      0.011     11.244      0.000       0.104       0.148\n",
      "abs_diff_duration         0.1916      0.022      8.538      0.000       0.148       0.236\n",
      "eu_indicator              1.7957      0.383      4.692      0.000       1.046       2.546\n",
      "is_da                    -0.0302      0.190     -0.159      0.874      -0.402       0.342\n",
      "is_ca                     0.0462      0.119      0.387      0.698      -0.188       0.280\n",
      "gps_confidence            0.0727      0.258      0.282      0.778      -0.432       0.578\n",
      "predicted_distance       -0.0284      0.006     -4.575      0.000      -0.041      -0.016\n",
      "predicted_duration        0.1081      0.049      2.215      0.027       0.012       0.204\n",
      "overpaid_ride_ticket      0.8237      0.372      2.212      0.027       0.094       1.554\n",
      "eu_predicted_duration    -0.3031      0.059     -5.111      0.000      -0.419      -0.187\n",
      "eu_predicted_distance     0.0099      0.007      1.449      0.147      -0.003       0.023\n",
      "eu_abs_diff_duration      0.5403      0.047     11.431      0.000       0.448       0.633\n",
      "eu_abs_diff_distance      0.0118      0.013      0.897      0.369      -0.014       0.038\n",
      "=========================================================================================\n"
     ]
    }
   ],
   "source": [
    "print(logit_model.summary())"
   ]
  }
 ],
 "metadata": {
  "kernelspec": {
   "display_name": "Python 3 (ipykernel)",
   "language": "python",
   "name": "python3"
  },
  "language_info": {
   "codemirror_mode": {
    "name": "ipython",
    "version": 3
   },
   "file_extension": ".py",
   "mimetype": "text/x-python",
   "name": "python",
   "nbconvert_exporter": "python",
   "pygments_lexer": "ipython3",
   "version": "3.9.12"
  }
 },
 "nbformat": 4,
 "nbformat_minor": 5
}
